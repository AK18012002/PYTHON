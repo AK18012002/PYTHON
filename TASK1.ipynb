{
  "nbformat": 4,
  "nbformat_minor": 0,
  "metadata": {
    "colab": {
      "provenance": []
    },
    "kernelspec": {
      "name": "python3",
      "display_name": "Python 3"
    },
    "language_info": {
      "name": "python"
    }
  },
  "cells": [
    {
      "cell_type": "markdown",
      "source": [
        "PRINTING HELLO WORLD"
      ],
      "metadata": {
        "id": "ErWjPQgrzXd7"
      }
    },
    {
      "cell_type": "code",
      "execution_count": null,
      "metadata": {
        "id": "wq2LlTpvkaR7",
        "colab": {
          "base_uri": "https://localhost:8080/"
        },
        "outputId": "400d3d78-f3b3-447e-c41a-05f3bf40b424"
      },
      "outputs": [
        {
          "output_type": "stream",
          "name": "stdout",
          "text": [
            "hello world\n"
          ]
        }
      ],
      "source": [
        "print(\"hello world\")"
      ]
    },
    {
      "cell_type": "markdown",
      "source": [
        "ADDING TWO NUMBER"
      ],
      "metadata": {
        "id": "qf68ZPKPzday"
      }
    },
    {
      "cell_type": "code",
      "source": [
        "a=2\n",
        "b=3\n",
        "c=a+b\n",
        "print(c)"
      ],
      "metadata": {
        "id": "Pxq7PEhDkkRU",
        "colab": {
          "base_uri": "https://localhost:8080/"
        },
        "outputId": "dc42c084-c9ac-4c66-82df-8f33693361b9"
      },
      "execution_count": null,
      "outputs": [
        {
          "output_type": "stream",
          "name": "stdout",
          "text": [
            "5\n"
          ]
        }
      ]
    },
    {
      "cell_type": "markdown",
      "source": [
        "SQUARE ROOT "
      ],
      "metadata": {
        "id": "WhB0Xs9JzVKZ"
      }
    },
    {
      "cell_type": "code",
      "source": [
        "import math as m\n",
        "m.sqrt(c)"
      ],
      "metadata": {
        "colab": {
          "base_uri": "https://localhost:8080/"
        },
        "id": "z8fdNM4qyXCJ",
        "outputId": "829425a0-81ee-41d4-eaf4-c387026d2444"
      },
      "execution_count": null,
      "outputs": [
        {
          "output_type": "execute_result",
          "data": {
            "text/plain": [
              "2.23606797749979"
            ]
          },
          "metadata": {},
          "execution_count": 9
        }
      ]
    },
    {
      "cell_type": "code",
      "source": [
        "import numpy as np \n",
        "np.sqrt(5)"
      ],
      "metadata": {
        "colab": {
          "base_uri": "https://localhost:8080/"
        },
        "id": "KMgoCQPdybKl",
        "outputId": "a7d16ced-cb2d-423f-bbb8-22cadda87bf3"
      },
      "execution_count": null,
      "outputs": [
        {
          "output_type": "execute_result",
          "data": {
            "text/plain": [
              "2.23606797749979"
            ]
          },
          "metadata": {},
          "execution_count": 10
        }
      ]
    },
    {
      "cell_type": "markdown",
      "source": [
        "SWAPPING TWO VARIABLE"
      ],
      "metadata": {
        "id": "vWed94dvzRBn"
      }
    },
    {
      "cell_type": "code",
      "source": [
        "a,b=b,a\n",
        "print(a)\n",
        "print(b)"
      ],
      "metadata": {
        "colab": {
          "base_uri": "https://localhost:8080/"
        },
        "id": "oIHI21Vuy5sy",
        "outputId": "87224c9e-4174-41f9-bed9-1923c30ff30a"
      },
      "execution_count": null,
      "outputs": [
        {
          "output_type": "stream",
          "name": "stdout",
          "text": [
            "2\n",
            "3\n"
          ]
        }
      ]
    },
    {
      "cell_type": "markdown",
      "source": [
        "MODULUS"
      ],
      "metadata": {
        "id": "y2ep7Mv9zN30"
      }
    },
    {
      "cell_type": "code",
      "source": [
        "3%10\n"
      ],
      "metadata": {
        "colab": {
          "base_uri": "https://localhost:8080/"
        },
        "id": "VUuqOtj0y-pp",
        "outputId": "17b6189e-dc15-4e14-c511-6570dbeac195"
      },
      "execution_count": null,
      "outputs": [
        {
          "output_type": "execute_result",
          "data": {
            "text/plain": [
              "3"
            ]
          },
          "metadata": {},
          "execution_count": 13
        }
      ]
    },
    {
      "cell_type": "code",
      "source": [],
      "metadata": {
        "id": "Qt1JkYpPzML_"
      },
      "execution_count": null,
      "outputs": []
    }
  ]
}