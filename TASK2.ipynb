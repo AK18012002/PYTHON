{
  "nbformat": 4,
  "nbformat_minor": 0,
  "metadata": {
    "colab": {
      "provenance": []
    },
    "kernelspec": {
      "name": "python3",
      "display_name": "Python 3"
    },
    "language_info": {
      "name": "python"
    }
  },
  "cells": [
    {
      "cell_type": "markdown",
      "source": [
        "Write a program to check if a number is positive, negative or 0."
      ],
      "metadata": {
        "id": "JUwZ1knQ1Vdk"
      }
    },
    {
      "cell_type": "code",
      "execution_count": null,
      "metadata": {
        "colab": {
          "base_uri": "https://localhost:8080/"
        },
        "id": "-s87WGxVz6Kv",
        "outputId": "08123318-9e9b-43f6-a72d-843a6f1407a0"
      },
      "outputs": [
        {
          "output_type": "stream",
          "name": "stdout",
          "text": [
            "enter a number : 0\n",
            "number is zero\n"
          ]
        }
      ],
      "source": [
        "a=int(input(\"enter a number : \"))\n",
        "if a > 0:\n",
        "  print(\"number is positive\")\n",
        "elif a < 0:\n",
        "  print(\"number is negative\")\n",
        "else:\n",
        "  print(\"number is zero\")"
      ]
    },
    {
      "cell_type": "markdown",
      "source": [
        "Write a program to find the maximum of two numbers."
      ],
      "metadata": {
        "id": "qBKLOUB_1a1T"
      }
    },
    {
      "cell_type": "code",
      "source": [
        "a=int(input(\"enter 1st number: \"))\n",
        "b=int(input(\"enter 2nd number: \"))\n",
        "if a > b:\n",
        "  print(\"a is greater than b\")\n",
        "else: \n",
        "  print(\"b is greater than a\")\n"
      ],
      "metadata": {
        "colab": {
          "base_uri": "https://localhost:8080/"
        },
        "id": "v3YeI6c10HeP",
        "outputId": "5b38113b-e8f8-4558-c461-d905faf75a14"
      },
      "execution_count": null,
      "outputs": [
        {
          "output_type": "stream",
          "name": "stdout",
          "text": [
            "enter 1st number: 4\n",
            "enter 2nd number: 3\n",
            "a is greater than b\n"
          ]
        }
      ]
    },
    {
      "cell_type": "markdown",
      "source": [
        "Write a program to find the largest among three numbers.\n"
      ],
      "metadata": {
        "id": "J7qJ-FHY17JK"
      }
    },
    {
      "cell_type": "code",
      "source": [
        "a = 2\n",
        "b = 3\n",
        "c = 4\n",
        "\n",
        "if a>b and a>c:\n",
        "  print(\"a is greater\")\n",
        "elif b>a and b>c:\n",
        "  print(\"b is greater\")\n",
        "else:\n",
        "  print(\"c is greater\")\n"
      ],
      "metadata": {
        "colab": {
          "base_uri": "https://localhost:8080/"
        },
        "id": "T2w6XrAj1070",
        "outputId": "90cda304-6832-48c9-feaf-2db583a6182d"
      },
      "execution_count": null,
      "outputs": [
        {
          "output_type": "stream",
          "name": "stdout",
          "text": [
            "c is greater\n"
          ]
        }
      ]
    },
    {
      "cell_type": "markdown",
      "source": [
        "Write a program to check if a number is even or odd."
      ],
      "metadata": {
        "id": "RubxzdSg2Y3U"
      }
    },
    {
      "cell_type": "code",
      "source": [
        "a = 2\n",
        "if a % 2 == 0 :\n",
        "  print(\"number is even\")\n",
        "else: \n",
        "  print(\"number is odd\")"
      ],
      "metadata": {
        "colab": {
          "base_uri": "https://localhost:8080/"
        },
        "id": "0O7PR8U-2TG8",
        "outputId": "f33c0c73-c772-4f68-c29a-56d739b2473e"
      },
      "execution_count": null,
      "outputs": [
        {
          "output_type": "stream",
          "name": "stdout",
          "text": [
            "number is even\n"
          ]
        }
      ]
    },
    {
      "cell_type": "markdown",
      "source": [
        "Write a program that grants access only to kids aged between 8-\n",
        "12."
      ],
      "metadata": {
        "id": "hb0_j1612pQY"
      }
    },
    {
      "cell_type": "code",
      "source": [
        "a = int(input(\"enter age of kid: \"))\n",
        "if a>=8 and a<=12: \n",
        "  print(\"access granted\")\n",
        "else: \n",
        "  print(\"access not granted\")"
      ],
      "metadata": {
        "colab": {
          "base_uri": "https://localhost:8080/"
        },
        "id": "PFbWDegd2njR",
        "outputId": "5a1abac5-df8d-424a-d697-709044232e85"
      },
      "execution_count": null,
      "outputs": [
        {
          "output_type": "stream",
          "name": "stdout",
          "text": [
            "enter age of kid: 12\n",
            "access granted\n"
          ]
        }
      ]
    },
    {
      "cell_type": "code",
      "source": [],
      "metadata": {
        "id": "CSzUi3xr28o-"
      },
      "execution_count": null,
      "outputs": []
    }
  ]
}