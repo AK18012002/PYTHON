{
  "nbformat": 4,
  "nbformat_minor": 0,
  "metadata": {
    "colab": {
      "provenance": []
    },
    "kernelspec": {
      "name": "python3",
      "display_name": "Python 3"
    },
    "language_info": {
      "name": "python"
    }
  },
  "cells": [
    {
      "cell_type": "markdown",
      "source": [
        "Find the highest number in the list of arrays."
      ],
      "metadata": {
        "id": "_97Ae6vZ6F-d"
      }
    },
    {
      "cell_type": "code",
      "execution_count": null,
      "metadata": {
        "colab": {
          "base_uri": "https://localhost:8080/"
        },
        "id": "KMpuXG5B3fUp",
        "outputId": "6c6b8511-bf5f-4e0c-e25c-cdeeadec8be0"
      },
      "outputs": [
        {
          "output_type": "stream",
          "name": "stdout",
          "text": [
            "14\n"
          ]
        }
      ],
      "source": [
        "list = [\n",
        "    [1, 2, 3, 4, 5],\n",
        "    [6, 2, 3, 4, 5],\n",
        "    [10, 2, 3, 10, 5],\n",
        "    [1, 2, 3, 14, 5]\n",
        "]\n",
        "\n",
        "highest_number = list[0][0]\n",
        "\n",
        "for array in list: \n",
        "  for sub_array in array:\n",
        "    if sub_array > highest_number:\n",
        "      highest_number = sub_array\n",
        "print(highest_number)"
      ]
    },
    {
      "cell_type": "code",
      "source": [
        "list = [1,12,3,24,5]\n",
        "highest_number=list[0]  \n",
        "for array in list:\n",
        "  if array>highest_number:\n",
        "    highest_number = array\n",
        "print(highest_number)"
      ],
      "metadata": {
        "colab": {
          "base_uri": "https://localhost:8080/"
        },
        "id": "lj_D_wAC4XTi",
        "outputId": "656f4050-e420-437d-cdae-da8766a65011"
      },
      "execution_count": null,
      "outputs": [
        {
          "output_type": "stream",
          "name": "stdout",
          "text": [
            "24\n"
          ]
        }
      ]
    },
    {
      "cell_type": "markdown",
      "source": [
        "Print the table of any number."
      ],
      "metadata": {
        "id": "p5GwvcyL6v5Z"
      }
    },
    {
      "cell_type": "code",
      "source": [
        "number = 4 \n",
        "\n",
        "for i in range(1,11):\n",
        "  print(number,\"x\",i,\"=\",number*i)"
      ],
      "metadata": {
        "colab": {
          "base_uri": "https://localhost:8080/"
        },
        "id": "Fg12RSZr49tC",
        "outputId": "02a1ee04-eace-42e6-9db0-f2c423c9c332"
      },
      "execution_count": null,
      "outputs": [
        {
          "output_type": "stream",
          "name": "stdout",
          "text": [
            "4 x 1 = 4\n",
            "4 x 2 = 8\n",
            "4 x 3 = 12\n",
            "4 x 4 = 16\n",
            "4 x 5 = 20\n",
            "4 x 6 = 24\n",
            "4 x 7 = 28\n",
            "4 x 8 = 32\n",
            "4 x 9 = 36\n",
            "4 x 10 = 40\n"
          ]
        }
      ]
    },
    {
      "cell_type": "markdown",
      "source": [
        "Write a program to find the sum of squares of each element of the list\n",
        "using a for loop."
      ],
      "metadata": {
        "id": "XJJDsyHH7TG1"
      }
    },
    {
      "cell_type": "code",
      "source": [
        "list = [1 ,2 ,3 ,4]\n",
        "\n",
        "for array in list: \n",
        "  print(array*array)"
      ],
      "metadata": {
        "colab": {
          "base_uri": "https://localhost:8080/"
        },
        "id": "1sJ2OeSS6n1l",
        "outputId": "5584254e-8a4a-4ef0-ddf0-d9f564796d28"
      },
      "execution_count": null,
      "outputs": [
        {
          "output_type": "stream",
          "name": "stdout",
          "text": [
            "1\n",
            "4\n",
            "9\n",
            "16\n"
          ]
        }
      ]
    },
    {
      "cell_type": "markdown",
      "source": [
        "Print your name 3 times using a while loop."
      ],
      "metadata": {
        "id": "82rEdL827reQ"
      }
    },
    {
      "cell_type": "code",
      "source": [
        "i = 0 \n",
        "\n",
        "while i<3:\n",
        "  print(\"Abdullah khan\")\n",
        "  i+=1"
      ],
      "metadata": {
        "colab": {
          "base_uri": "https://localhost:8080/"
        },
        "id": "4i8HLthA7E36",
        "outputId": "b14856de-372b-4970-8311-f61a832479be"
      },
      "execution_count": null,
      "outputs": [
        {
          "output_type": "stream",
          "name": "stdout",
          "text": [
            "Abdullah khan\n",
            "Abdullah khan\n",
            "Abdullah khan\n"
          ]
        }
      ]
    },
    {
      "cell_type": "markdown",
      "source": [
        "Find the mean of a given list of numbers."
      ],
      "metadata": {
        "id": "2Pz-6HOz8ebN"
      }
    },
    {
      "cell_type": "code",
      "source": [
        "list = [1 ,2, 3, 4]\n",
        "total = sum(list)\n",
        "mean = total/len(list)"
      ],
      "metadata": {
        "id": "KRlFenpt7oCG"
      },
      "execution_count": null,
      "outputs": []
    },
    {
      "cell_type": "code",
      "source": [
        "mean"
      ],
      "metadata": {
        "colab": {
          "base_uri": "https://localhost:8080/"
        },
        "id": "slP8sh_W8bOd",
        "outputId": "1662fb7b-7dcc-451f-c6bb-922b408cd7fd"
      },
      "execution_count": null,
      "outputs": [
        {
          "output_type": "execute_result",
          "data": {
            "text/plain": [
              "2.5"
            ]
          },
          "metadata": {},
          "execution_count": 16
        }
      ]
    },
    {
      "cell_type": "markdown",
      "source": [
        "Write a function to find the factorial of any number."
      ],
      "metadata": {
        "id": "lVNab7bp9J8c"
      }
    },
    {
      "cell_type": "code",
      "source": [
        "def factorial(number):\n",
        "  if number == 0 : \n",
        "    return 1\n",
        "  else : \n",
        "    return number * factorial(number-1)"
      ],
      "metadata": {
        "id": "gWyPKSQq8cEJ"
      },
      "execution_count": null,
      "outputs": []
    },
    {
      "cell_type": "code",
      "source": [
        "result = factorial(5)"
      ],
      "metadata": {
        "id": "hKT7ZZBC8_Xb"
      },
      "execution_count": null,
      "outputs": []
    },
    {
      "cell_type": "code",
      "source": [
        "result"
      ],
      "metadata": {
        "id": "cD3S1e5Q9F9T",
        "outputId": "8e159f0d-8332-42e6-b531-14b662e62305",
        "colab": {
          "base_uri": "https://localhost:8080/"
        }
      },
      "execution_count": null,
      "outputs": [
        {
          "output_type": "execute_result",
          "data": {
            "text/plain": [
              "120"
            ]
          },
          "metadata": {},
          "execution_count": 20
        }
      ]
    },
    {
      "cell_type": "markdown",
      "source": [
        "Write a function for simple operations (+, -, *, /)."
      ],
      "metadata": {
        "id": "uyFEyWX9-oT2"
      }
    },
    {
      "cell_type": "code",
      "source": [
        "def calculator(operator,operand1,operand2):\n",
        "  if operator == '+':\n",
        "    return operand1 + operand2\n",
        "  elif operator == '-':\n",
        "    return operand1 - operand2\n",
        "  elif operator == '*':\n",
        "    return operand1 * operand2\n",
        "  elif operator == '/':\n",
        "    return operand1 / operand2\n",
        "  else:\n",
        "    print('unsupported operator')\n",
        "\n",
        "\n",
        "calculator('/',20,10)"
      ],
      "metadata": {
        "id": "wgRnAt7_9G82",
        "colab": {
          "base_uri": "https://localhost:8080/"
        },
        "outputId": "e34127f8-cdf4-4b6a-a6b0-03d2cab1010d"
      },
      "execution_count": null,
      "outputs": [
        {
          "output_type": "execute_result",
          "data": {
            "text/plain": [
              "2.0"
            ]
          },
          "metadata": {},
          "execution_count": 7
        }
      ]
    },
    {
      "cell_type": "markdown",
      "source": [
        "Write a function that counts the number of “a” in a sentence."
      ],
      "metadata": {
        "id": "ssTgsPjuAnW8"
      }
    },
    {
      "cell_type": "code",
      "source": [
        "def counting(sentence):\n",
        "  count = 0\n",
        "  for char in sentence: \n",
        "    if char == 'a': \n",
        "      count += 1\n",
        "  return count\n",
        "\n",
        "counting(\"My name is abdullah khan\")"
      ],
      "metadata": {
        "colab": {
          "base_uri": "https://localhost:8080/"
        },
        "id": "5Wib6O5s_LlD",
        "outputId": "f8a012f9-258b-42ef-9058-2e2ff0172177"
      },
      "execution_count": null,
      "outputs": [
        {
          "output_type": "execute_result",
          "data": {
            "text/plain": [
              "4"
            ]
          },
          "metadata": {},
          "execution_count": 13
        }
      ]
    },
    {
      "cell_type": "code",
      "source": [
        "def count(sentence):\n",
        "  count = 0 \n",
        "  for char in sentence:\n",
        "    if char == 'a' or char == 'A':\n",
        "      count += 1 \n",
        "  return count\n",
        "\n",
        "count(\"My name is Abdullah khan\")"
      ],
      "metadata": {
        "colab": {
          "base_uri": "https://localhost:8080/"
        },
        "id": "QvJ9HE-U_5J8",
        "outputId": "35740c3c-e742-4e48-b4ae-ee6706f0e382"
      },
      "execution_count": null,
      "outputs": [
        {
          "output_type": "execute_result",
          "data": {
            "text/plain": [
              "4"
            ]
          },
          "metadata": {},
          "execution_count": 14
        }
      ]
    },
    {
      "cell_type": "markdown",
      "source": [
        "Write a function that computes the power of a number."
      ],
      "metadata": {
        "id": "s5xHUOmUDnQ9"
      }
    },
    {
      "cell_type": "code",
      "source": [
        "def power(base,exponent):\n",
        "  result = 1 \n",
        "  while exponent > 0 :\n",
        "    result *= base\n",
        "    exponent -= 1\n",
        "  return result\n",
        "\n",
        "power(2, 3)"
      ],
      "metadata": {
        "colab": {
          "base_uri": "https://localhost:8080/"
        },
        "id": "upsnHJueAkPd",
        "outputId": "6ea391ac-07bb-4355-cf27-f2b2566f2c7d"
      },
      "execution_count": null,
      "outputs": [
        {
          "output_type": "execute_result",
          "data": {
            "text/plain": [
              "8"
            ]
          },
          "metadata": {},
          "execution_count": 16
        }
      ]
    },
    {
      "cell_type": "code",
      "source": [
        "def power(base,exponent):\n",
        "  result = 1 \n",
        "  while exponent > 0 :\n",
        "    result *= base \n",
        "    exponent -= 1\n",
        "  return result"
      ],
      "metadata": {
        "id": "F59fxTG0Dc1_"
      },
      "execution_count": null,
      "outputs": []
    },
    {
      "cell_type": "code",
      "source": [
        "power(2,4)"
      ],
      "metadata": {
        "colab": {
          "base_uri": "https://localhost:8080/"
        },
        "id": "6PcSZfDfEAix",
        "outputId": "e8df7cda-f2ca-42e3-db53-cc9a9d05e03c"
      },
      "execution_count": null,
      "outputs": [
        {
          "output_type": "execute_result",
          "data": {
            "text/plain": [
              "16"
            ]
          },
          "metadata": {},
          "execution_count": 18
        }
      ]
    },
    {
      "cell_type": "markdown",
      "source": [
        "Write a function that reverse a number using a while loop.\n",
        "\n",
        "\n"
      ],
      "metadata": {
        "id": "Fk2Qyzgh66qj"
      }
    },
    {
      "cell_type": "code",
      "source": [
        "def reverse_num(num):\n",
        "  reverse_number = 0 \n",
        "  while num > 0 :\n",
        "    digit = num % 10 \n",
        "    reverse_number = (reverse_number * 10) + digit \n",
        "    num = num // 10 \n",
        "  return reverse_number"
      ],
      "metadata": {
        "id": "w0ne-Q7BzlUo"
      },
      "execution_count": 4,
      "outputs": []
    },
    {
      "cell_type": "code",
      "source": [
        "reverse_num(5421)"
      ],
      "metadata": {
        "colab": {
          "base_uri": "https://localhost:8080/"
        },
        "id": "5v-3O2Pj1R2v",
        "outputId": "5cb76a0f-68ad-4a89-9206-bededee85844"
      },
      "execution_count": 5,
      "outputs": [
        {
          "output_type": "execute_result",
          "data": {
            "text/plain": [
              "1245"
            ]
          },
          "metadata": {},
          "execution_count": 5
        }
      ]
    },
    {
      "cell_type": "code",
      "source": [],
      "metadata": {
        "id": "ELQcRQr41V14"
      },
      "execution_count": null,
      "outputs": []
    }
  ]
}