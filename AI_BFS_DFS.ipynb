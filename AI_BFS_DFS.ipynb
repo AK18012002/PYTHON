{
  "nbformat": 4,
  "nbformat_minor": 0,
  "metadata": {
    "colab": {
      "provenance": []
    },
    "kernelspec": {
      "name": "python3",
      "display_name": "Python 3"
    },
    "language_info": {
      "name": "python"
    }
  },
  "cells": [
    {
      "cell_type": "code",
      "execution_count": 7,
      "metadata": {
        "colab": {
          "base_uri": "https://localhost:8080/"
        },
        "id": "O2NlX0uSJx5R",
        "outputId": "1b2f325a-78bf-4c86-c6ff-d76ee60e5eca"
      },
      "outputs": [
        {
          "output_type": "stream",
          "name": "stdout",
          "text": [
            "Following is Breadth First Traversal Starting from vertex 2\n",
            "0 1 2 3 4 "
          ]
        }
      ],
      "source": [
        "from collections import defaultdict\n",
        "class Graph: \n",
        "\n",
        "  def __init__(self):\n",
        "    self.graph = defaultdict(list)\n",
        "  \n",
        "  def addEdge(self,u,v):\n",
        "    self.graph[u].append(v)\n",
        "  \n",
        "  def BFS(self,s):\n",
        "    visited = [False] * (max(self.graph)+1)\n",
        "    queue=[]\n",
        "    queue.append(s)\n",
        "    visited[s]=True\n",
        "\n",
        "    while queue:\n",
        "      s= queue.pop(0)\n",
        "      print(s,end=\" \")\n",
        "\n",
        "      for i in self.graph[s] :\n",
        "        if visited[i] == False:\n",
        "          queue.append(i)\n",
        "          visited[i]=True\n",
        "\n",
        "\n",
        "g = Graph()\n",
        "g.addEdge(0,1)\n",
        "g.addEdge(0,2)\n",
        "g.addEdge(1,2)\n",
        "g.addEdge(1,3)\n",
        "g.addEdge(1,0)\n",
        "g.addEdge(2,0)\n",
        "g.addEdge(2,1)\n",
        "g.addEdge(2,4)\n",
        "g.addEdge(3,1)\n",
        "g.addEdge(3,4)\n",
        "g.addEdge(4,2)\n",
        "g.addEdge(4,3)\n",
        "\n",
        "print(\"Following is Breadth First Traversal Starting from vertex 2\")\n",
        "\n",
        "g.BFS(0)"
      ]
    },
    {
      "cell_type": "code",
      "source": [
        "class Graph:\n",
        "\n",
        "\t# Constructor\n",
        "\tdef __init__(self):\n",
        "\n",
        "\t\t# default dictionary to store graph\n",
        "\t\tself.graph = defaultdict(list)\n",
        "\n",
        "\t# function to add an edge to graph\n",
        "\tdef addEdge(self, u, v):\n",
        "\t\tself.graph[u].append(v)\n",
        "\n",
        "\t# A function used by DFS\n",
        "\tdef DFSUtil(self, v, visited):\n",
        "\n",
        "\t\t# Mark the current node as visited\n",
        "\t\t# and print it\n",
        "\t\tvisited.add(v)\n",
        "\t\tprint(v, end=' ')\n",
        "\n",
        "\t\t# Recur for all the vertices\n",
        "\t\t# adjacent to this vertex\n",
        "\t\tfor neighbour in self.graph[v]:\n",
        "\t\t\tif neighbour not in visited:\n",
        "\t\t\t\tself.DFSUtil(neighbour, visited)\n",
        "\n",
        "\t# The function to do DFS traversal. It uses\n",
        "\t# recursive DFSUtil()\n",
        "\tdef DFS(self, v):\n",
        "\n",
        "\t\t# Create a set to store visited vertices\n",
        "\t\tvisited = set()\n",
        "\n",
        "\t\t# Call the recursive helper function\n",
        "\t\t# to print DFS traversal\n",
        "\t\tself.DFSUtil(v, visited)\n",
        "\n",
        "# Driver's code\n",
        "\n",
        "\n",
        "# Create a graph given\n",
        "# in the above diagram\n",
        "if __name__ == \"__main__\":\n",
        "    g = Graph() \n",
        "    g.addEdge(0, 1)\n",
        "    g.addEdge(0, 2)\n",
        "    g.addEdge(1, 0)\n",
        "    g.addEdge(1, 2)\n",
        "    g.addEdge(1, 3)\n",
        "    g.addEdge(2, 0)\n",
        "    g.addEdge(2, 1)\n",
        "    g.addEdge(2, 4)\n",
        "    g.addEdge(3, 1)\n",
        "    g.addEdge(3, 4)\n",
        "    g.addEdge(4, 2)\n",
        "    g.addEdge(4, 3)\n",
        "    \n",
        "\n",
        "    print(\"Following is DFS from (starting from vertex 2)\")\n",
        "    # Function call\n",
        "    g.DFS(1)\n"
      ],
      "metadata": {
        "colab": {
          "base_uri": "https://localhost:8080/"
        },
        "id": "Xvx4iUf1Mdlb",
        "outputId": "674c8a10-d713-44c6-a3cd-ba3f8329f502"
      },
      "execution_count": 8,
      "outputs": [
        {
          "output_type": "stream",
          "name": "stdout",
          "text": [
            "Following is DFS from (starting from vertex 2)\n",
            "1 0 2 4 3 "
          ]
        }
      ]
    },
    {
      "cell_type": "code",
      "source": [],
      "metadata": {
        "id": "fOs3rreVPvee"
      },
      "execution_count": null,
      "outputs": []
    }
  ]
}